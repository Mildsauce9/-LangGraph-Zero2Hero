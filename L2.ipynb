{
 "cells": [
  {
   "cell_type": "markdown",
   "id": "88a9dbab",
   "metadata": {},
   "source": [
    "# This is a guesser bot without any AI that plays higher or lower with itself to guess a number "
   ]
  },
  {
   "cell_type": "code",
   "execution_count": 60,
   "id": "fc11f27e",
   "metadata": {},
   "outputs": [],
   "source": [
    "from typing import List, TypedDict\n",
    "from langgraph.graph import StateGraph, END\n",
    "import random"
   ]
  },
  {
   "cell_type": "code",
   "execution_count": 61,
   "id": "858534a9",
   "metadata": {},
   "outputs": [],
   "source": [
    "class AgentState(TypedDict):\n",
    "    \"\"\" States of the graph \"\"\"\n",
    "    name : str\n",
    "    guesses : list[int]\n",
    "    low : int\n",
    "    high : int\n",
    "    target_number : int\n",
    "    hint : str\n",
    "    "
   ]
  },
  {
   "cell_type": "code",
   "execution_count": 72,
   "id": "0fdd02bb",
   "metadata": {},
   "outputs": [],
   "source": [
    "def setup (state: AgentState) -> AgentState:\n",
    "    \"\"\" setup function that assigns value to the basic variables\"\"\"\n",
    "    state[\"name\"] = f\"Hi {state[\"name\"]}, welcome! \\n\";\n",
    "    state[\"target_number\"] = random.randint(state[\"low\"], state[\"high\"]);\n",
    "    state[\"hint\"] = \"I have chosen a random number \\n\";\n",
    "    state[\"guesses\"] = []\n",
    "    print(f\"Hi {state[\"name\"]}, {state[\"hint\"]} \")\n",
    "    return state\n",
    "    "
   ]
  },
  {
   "cell_type": "code",
   "execution_count": 78,
   "id": "ec360919",
   "metadata": {},
   "outputs": [],
   "source": [
    "def guess(state : AgentState) -> AgentState:\n",
    "    \"guesser node that makes a guess on the correct number\"\n",
    "    if state[\"hint\"] == \"lower\":\n",
    "        state[\"high\"] = state[\"guesses\"][-1];\n",
    "    elif state[\"hint\"] == \"higher\":\n",
    "        state[\"low\"] = state[\"guesses\"][-1];\n",
    "    \n",
    "    state[\"guesses\"].append(random.choice([i for i in range(state[\"low\"], state[\"high\"]+1) if i not in state[\"guesses\"]]))\n",
    "    print(f\"Is it {state[\"guesses\"][-1]} ? \\n\")\n",
    "    return state"
   ]
  },
  {
   "cell_type": "code",
   "execution_count": 79,
   "id": "2ad07d73",
   "metadata": {},
   "outputs": [],
   "source": [
    "def hint(state : AgentState) -> AgentState:\n",
    "    \"\"\" hint function to help the guesser node guess better \"\"\"\n",
    "    if(len(state[\"guesses\"]) > 7):\n",
    "        state[\"hint\"] = f\"Maximum number of guesses reached. The number was {state[\"target_number\"]} \\n\";\n",
    "        print(state[\"hint\"])\n",
    "        return state;\n",
    "   \n",
    "    if (state[\"guesses\"][-1] == state[\"target_number\"]):\n",
    "        state[\"hint\"] = f\"Wow guessed in {len(state[\"guesses\"])} attempts !, the number was {state[\"target_number\"]} \\n\";\n",
    "        print(state[\"hint\"])\n",
    "        return state;\n",
    "  \n",
    "    elif (state[\"guesses\"][-1] > state[\"target_number\"]):\n",
    "        state[\"hint\"] = f\"lower\";\n",
    "\n",
    "  \n",
    "    elif (state[\"guesses\"][-1] < state[\"target_number\"]):\n",
    "        state[\"hint\"] = f\"higher\";\n",
    "\n",
    "    print(f\"Incorrect. Guesses left : { 7 - len(state[\"guesses\"])}, Hint: {state[\"hint\"]}\")\n",
    "    return state;\n",
    "\n",
    "def should_continue(state: AgentState) -> str:\n",
    "    \"\"\"Router function to determine next step\"\"\"\n",
    "    if(len(state[\"guesses\"]) > 7):\n",
    "        return \"end_game\";\n",
    "   \n",
    "    if (state[\"guesses\"][-1] == state[\"target_number\"]):\n",
    "        return \"end_game\";\n",
    "    \n",
    "    return \"guess_again\";"
   ]
  },
  {
   "cell_type": "code",
   "execution_count": 80,
   "id": "c142ef2c",
   "metadata": {},
   "outputs": [],
   "source": [
    "graph = StateGraph(AgentState)\n",
    "graph.add_node(\"setup\", setup);\n",
    "graph.add_node(\"guess\", guess);\n",
    "graph.add_edge(\"setup\", \"guess\");\n",
    "graph.add_node(\"hint\", hint);\n",
    "graph.add_edge(\"guess\", \"hint\")\n",
    "graph.add_conditional_edges(\n",
    "    \"hint\", \n",
    "    should_continue, \n",
    "    {\n",
    "        \"guess_again\" : \"guess\", \n",
    "        \"end_game\" : END\n",
    "    }\n",
    ")\n",
    "\n",
    "graph.set_entry_point(\"setup\")\n",
    "app = graph.compile()"
   ]
  },
  {
   "cell_type": "code",
   "execution_count": 81,
   "id": "fa14d3a3",
   "metadata": {},
   "outputs": [
    {
     "data": {
      "image/png": "[encoded data removed]",
      "text/plain": [
       "<IPython.core.display.Image object>"
      ]
     },
     "metadata": {},
     "output_type": "display_data"
    }
   ],
   "source": [
    "from IPython.display import Image, display\n",
    "display(Image(app.get_graph().draw_mermaid_png()))"
   ]
  },
  {
   "cell_type": "code",
   "execution_count": 82,
   "id": "a0001afc",
   "metadata": {},
   "outputs": [
    {
     "name": "stdout",
     "output_type": "stream",
     "text": [
      "Hi Hi Kailash, welcome! \n",
      ", I have chosen a random number \n",
      " \n",
      "Is it 13 ? \n",
      "\n",
      "Incorrect. Guesses left : 6, Hint: higher\n",
      "Is it 18 ? \n",
      "\n",
      "Incorrect. Guesses left : 5, Hint: lower\n",
      "Is it 14 ? \n",
      "\n",
      "Incorrect. Guesses left : 4, Hint: higher\n",
      "Is it 16 ? \n",
      "\n",
      "Wow guessed in 4 attempts !, the number was 16 \n",
      "\n"
     ]
    }
   ],
   "source": [
    "result = app.invoke(\n",
    "    {\n",
    "        \"name\" : \"Kailash\", \n",
    "        \"low\" : 1, \n",
    "        \"high\" : 20, \n",
    "        \"guesses\" : []\n",
    "    }\n",
    ")"
   ]
  },
  {
   "cell_type": "code",
   "execution_count": null,
   "id": "7bb88828",
   "metadata": {},
   "outputs": [],
   "source": []
  }
 ],
 "metadata": {
  "kernelspec": {
   "display_name": "base",
   "language": "python",
   "name": "python3"
  },
  "language_info": {
   "codemirror_mode": {
    "name": "ipython",
    "version": 3
   },
   "file_extension": ".py",
   "mimetype": "text/x-python",
   "name": "python",
   "nbconvert_exporter": "python",
   "pygments_lexer": "ipython3",
   "version": "3.12.7"
  }
 },
 "nbformat": 4,
 "nbformat_minor": 5
}
