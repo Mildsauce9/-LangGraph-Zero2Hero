{
 "cells": [
  {
   "cell_type": "code",
   "execution_count": null,
   "id": "abf34a78",
   "metadata": {},
   "outputs": [],
   "source": [
    "!pip install langgraph\n"
   ]
  },
  {
   "cell_type": "code",
   "execution_count": 4,
   "id": "9f65b6a4",
   "metadata": {},
   "outputs": [],
   "source": [
    "from typing import Dict, TypedDict\n",
    "from langgraph.graph import StateGraph"
   ]
  },
  {
   "cell_type": "code",
   "execution_count": 18,
   "id": "a2a02ec4",
   "metadata": {},
   "outputs": [],
   "source": [
    "class State(TypedDict):\n",
    "    \"\"\"State of the graph.\"\"\"\n",
    "    name : str\n",
    "\n",
    "def greeter_node(state : State):\n",
    "    \"\"\" A simple node that adds a greeting to the state \"\"\"\n",
    "    state['name'] = f\"Hey {state['name']}, how are you today\"\n",
    "    return state\n"
   ]
  },
  {
   "cell_type": "code",
   "execution_count": 19,
   "id": "5162c57a",
   "metadata": {},
   "outputs": [],
   "source": [
    "graph = StateGraph(State);\n",
    "\n",
    "graph.add_node(\"greeter\", greeter_node);\n",
    "graph.set_entry_point(\"greeter\");\n",
    "graph.set_finish_point(\"greeter\");\n",
    "app = graph.compile()"
   ]
  },
  {
   "cell_type": "code",
   "execution_count": 20,
   "id": "90b22ff0",
   "metadata": {},
   "outputs": [],
   "source": [
    "result = app.invoke({\"name\" : \"Kailash\"})"
   ]
  },
  {
   "cell_type": "code",
   "execution_count": 21,
   "id": "725ad460",
   "metadata": {},
   "outputs": [
    {
     "data": {
      "text/plain": [
       "'Hey Kailash, how are you today'"
      ]
     },
     "execution_count": 21,
     "metadata": {},
     "output_type": "execute_result"
    }
   ],
   "source": [
    "result['name']"
   ]
  },
  {
   "cell_type": "code",
   "execution_count": null,
   "id": "f35cd281",
   "metadata": {},
   "outputs": [],
   "source": []
  }
 ],
 "metadata": {
  "kernelspec": {
   "display_name": "base",
   "language": "python",
   "name": "python3"
  },
  "language_info": {
   "codemirror_mode": {
    "name": "ipython",
    "version": 3
   },
   "file_extension": ".py",
   "mimetype": "text/x-python",
   "name": "python",
   "nbconvert_exporter": "python",
   "pygments_lexer": "ipython3",
   "version": "3.12.7"
  }
 },
 "nbformat": 4,
 "nbformat_minor": 5
}
